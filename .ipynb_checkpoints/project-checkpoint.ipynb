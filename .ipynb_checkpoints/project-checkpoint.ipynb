{
 "cells": [
  {
   "cell_type": "markdown",
   "id": "saved-tennis",
   "metadata": {},
   "source": [
    "Project:   \n",
    "Author: Yunmo Zhang"
   ]
  },
  {
   "cell_type": "code",
   "execution_count": 4,
   "id": "pleased-berlin",
   "metadata": {},
   "outputs": [],
   "source": [
    "import numpy as np\n",
    "import cvxpy as cp"
   ]
  },
  {
   "cell_type": "code",
   "execution_count": 2,
   "id": "returning-mambo",
   "metadata": {},
   "outputs": [
    {
     "name": "stdout",
     "output_type": "stream",
     "text": [
      "Looking in indexes: https://pypi.gurobi.com\n",
      "Collecting gurobipy\n",
      "  Downloading gurobipy-9.1.2-cp39-cp39-win_amd64.whl (8.6 MB)\n",
      "Installing collected packages: gurobipy\n",
      "Successfully installed gurobipy-9.1.2\n",
      "Note: you may need to restart the kernel to use updated packages.\n"
     ]
    },
    {
     "name": "stderr",
     "output_type": "stream",
     "text": [
      "WARNING: You are using pip version 21.0.1; however, version 21.1 is available.\n",
      "You should consider upgrading via the 'c:\\users\\tqdcm\\appdata\\local\\programs\\python\\python39\\python.exe -m pip install --upgrade pip' command.\n"
     ]
    }
   ],
   "source": [
    "pip install -i https://pypi.gurobi.com gurobipy"
   ]
  },
  {
   "cell_type": "code",
   "execution_count": 5,
   "id": "biblical-timber",
   "metadata": {},
   "outputs": [
    {
     "name": "stdout",
     "output_type": "stream",
     "text": [
      "['ECOS', 'ECOS_BB', 'GUROBI', 'OSQP', 'SCS']\n"
     ]
    }
   ],
   "source": [
    "print(cp.installed_solvers())"
   ]
  },
  {
   "cell_type": "markdown",
   "id": "healthy-inquiry",
   "metadata": {},
   "source": [
    "![title](tpg.png)"
   ]
  },
  {
   "cell_type": "code",
   "execution_count": null,
   "id": "direct-veteran",
   "metadata": {},
   "outputs": [],
   "source": []
  },
  {
   "cell_type": "code",
   "execution_count": 15,
   "id": "comic-hardware",
   "metadata": {},
   "outputs": [],
   "source": [
    "E = 30 # number of edges\n",
    "N = 24 # number of routers\n",
    "tagn = 1"
   ]
  },
  {
   "cell_type": "code",
   "execution_count": 16,
   "id": "comparable-might",
   "metadata": {},
   "outputs": [],
   "source": [
    "Edges = range(E)\n",
    "pEdges = [6,7,14,15,20,21,24,25,28,29]\n",
    "iEdges = []\n",
    "for i in range(E):\n",
    "    if i not in pEdges:\n",
    "        iEdges.append(i)\n",
    "\n",
    "Nodes = range(N)\n",
    "tNodes = range(1, N)"
   ]
  },
  {
   "cell_type": "code",
   "execution_count": 30,
   "id": "extended-electronics",
   "metadata": {},
   "outputs": [],
   "source": [
    "starte = [8,17,21,0,0,0,20,19,22,11,4,9,9,9,14,15,18,16,18,13,12,10,7,23,1,3,23,2,5,6]\n",
    "ende = [0,0,0,15,19,6,21,22,9,9,9,20,10,3,17,16,14,18,12,18,11,13,23,5,4,2,1,23,8,7]\n",
    "ie = []\n",
    "for i in range(N):\n",
    "    iet = []\n",
    "    for j in range(len(ende)):\n",
    "        if ende[j] == i:\n",
    "            iet.append(j)\n",
    "    ie.append(iet)\n",
    "\n",
    "\n",
    "def iE(n): # return the incoming edges of node n\n",
    "    return ie[n]\n",
    "\n",
    "def start(e):\n",
    "    return starte[e]\n",
    "\n",
    "def end(e):\n",
    "    return ende\n",
    "\n",
    "def bt(e):\n",
    "    if e == 14:\n",
    "        return [0]  # tag indicated by number 0\n",
    "    else:\n",
    "        return []\n",
    "    \n",
    "def at(e):\n",
    "    if e == 21:\n",
    "        return [0]\n",
    "    else:\n",
    "        return []\n",
    "    \n",
    "def ot(e):\n",
    "    if e == 21:\n",
    "        return []\n",
    "    else:\n",
    "        return [0]\n",
    "    "
   ]
  },
  {
   "cell_type": "code",
   "execution_count": 32,
   "id": "confused-greenhouse",
   "metadata": {},
   "outputs": [],
   "source": [
    "T = np.zeros((E,tagn))\n",
    "\n",
    "for edge in Edges:\n",
    "    for tag in bt(edge):\n",
    "        T[edge][tag] = 1\n",
    "        \n",
    "for edge in Edges:\n",
    "    for tag in ot(edge):\n",
    "        ans = False\n",
    "        for i in iE(start(edge)):\n",
    "            if T[i][tag] == 1:\n",
    "                ans = True\n",
    "                break\n",
    "        if ans is True:\n",
    "            T[edge][tag] = 1\n",
    "\n",
    "# print(T)"
   ]
  },
  {
   "cell_type": "code",
   "execution_count": 33,
   "id": "capable-publication",
   "metadata": {},
   "outputs": [
    {
     "name": "stdout",
     "output_type": "stream",
     "text": [
      "[0. 0. 0. 0. 0. 0. 0. 0. 0. 0. 0. 0. 0. 0. 0. 0. 0. 0. 0. 0. 0. 0. 0. 0.\n",
      " 0. 0. 0. 0. 0. 0.]\n"
     ]
    }
   ],
   "source": [
    "B = np.zeros(E)\n",
    "for edge in Edges:\n",
    "    ans = False\n",
    "    for tag in at(e):\n",
    "        if T[edge][tag] == 1:\n",
    "            ans = True\n",
    "            break\n",
    "    if ans is True:\n",
    "        B[edge] = 1\n",
    "\n",
    "print(B)"
   ]
  },
  {
   "cell_type": "code",
   "execution_count": null,
   "id": "civilian-target",
   "metadata": {},
   "outputs": [],
   "source": [
    "F = cp.Variable(E) # whether failing\n",
    "\n",
    "R = cp.Variable(N) # whether reachable\n",
    "\n",
    "A = cp.Variable(E)\n",
    "\n",
    "\n",
    "\n",
    "obj = cp.Minimize(cp.sum(F))\n",
    "\n",
    "constraints = [ R[0]=1, R[N-1]=0 ] #constraints: the connectivity of network has been broken.\n",
    "\n",
    "for edge in iEdges:\n",
    "    constraints += [ F[edge]=0 ]\n",
    "\n",
    "for node in tNodes:\n",
    "    for edge in iE(node):\n",
    "        constraints += [ A[edge] = R[start(edge)] + (1-B[edge]) + (1-F[edge]) ]\n",
    "\n",
    "for node in tNodes:\n",
    "    constraints += [ R[node] = cp.sum(Aie[node])]\n",
    "    \n",
    "    # 0111000转置相乘\n",
    "\n",
    "prob.solve(solver = cp.GUROBI)"
   ]
  }
 ],
 "metadata": {
  "kernelspec": {
   "display_name": "Python 3",
   "language": "python",
   "name": "python3"
  },
  "language_info": {
   "codemirror_mode": {
    "name": "ipython",
    "version": 3
   },
   "file_extension": ".py",
   "mimetype": "text/x-python",
   "name": "python",
   "nbconvert_exporter": "python",
   "pygments_lexer": "ipython3",
   "version": "3.9.0"
  }
 },
 "nbformat": 4,
 "nbformat_minor": 5
}
